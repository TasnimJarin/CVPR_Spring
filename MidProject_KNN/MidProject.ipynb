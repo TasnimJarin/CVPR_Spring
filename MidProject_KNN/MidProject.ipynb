{
 "cells": [
  {
   "cell_type": "code",
   "execution_count": 1,
   "metadata": {},
   "outputs": [],
   "source": [
    "import os\n",
    "import random\n",
    "import numpy as np\n",
    "import tensorflow as tf\n",
    "import matplotlib.pyplot as plt\n"
   ]
  },
  {
   "cell_type": "code",
   "execution_count": 2,
   "metadata": {},
   "outputs": [
    {
     "name": "stdout",
     "output_type": "stream",
     "text": [
      "Training Data: (50000, 32, 32, 3)\n",
      "Training Label: (50000,)\n",
      "Testing Data: (10000, 32, 32, 3)\n",
      "Testing Label: (10000,)\n"
     ]
    }
   ],
   "source": [
    "TRAIN_DATASET='./OneDrive/CIFAR-10-images-master/train'\n",
    "TEST_DATASET='./OneDrive/CIFAR-10-images-master/test'\n",
    "x_tr=[]\n",
    "y_tr=[]\n",
    "x_te=[]\n",
    "y_te=[]\n",
    "for c in os.listdir(TRAIN_DATASET):#list directory gives the access to all files in the path\n",
    "          for file in os.listdir(TRAIN_DATASET + '/' + c):\n",
    "                      img= plt.imread(TRAIN_DATASET +'/' + c +'/' +file)\n",
    "                      label =c\n",
    "                      x_tr.append(img)\n",
    "                        \n",
    "                      \n",
    "                      y_tr.append(label)\n",
    "\n",
    "for c in os.listdir(TEST_DATASET):#list directory gives the access to all files in the path\n",
    "          for file in os.listdir(TEST_DATASET + '/' + c):\n",
    "                      img= plt.imread(TEST_DATASET +'/' + c +'/' +file)\n",
    "                      label =c\n",
    "                      x_te.append(img)  \n",
    "                     \n",
    "                    \n",
    "                    \n",
    "                      y_te.append(label)\n",
    "X_train=np.array(x_tr)\n",
    "Y_train=np.array(y_tr)\n",
    "X_test=np.array(x_te)\n",
    "Y_test=np.array(y_te)\n",
    "\n",
    "\n",
    "print (f'Training Data: {X_train.shape}')\n",
    "print (f'Training Label: {Y_train.shape}')\n",
    "print (f'Testing Data: {X_test.shape}')\n",
    "print (f'Testing Label: {Y_test.shape}')\n"
   ]
  },
  {
   "cell_type": "code",
   "execution_count": 3,
   "metadata": {},
   "outputs": [
    {
     "name": "stdout",
     "output_type": "stream",
     "text": [
      "['airplane', 'automobile', 'bird', 'cat', 'deer', 'dog', 'frog', 'horse', 'ship', 'truck']\n",
      "['airplane', 'automobile', 'bird', 'cat', 'deer', 'dog', 'frog', 'horse', 'ship', 'truck']\n"
     ]
    }
   ],
   "source": [
    "CATEGORIES_TRAIN = []\n",
    "CATEGORIES_TEST = []\n",
    "for tra in os.listdir(TRAIN_DATASET):\n",
    "    CATEGORIES_TRAIN.append(tra)\n",
    "print (CATEGORIES_TRAIN)\n",
    "\n",
    "for tes in os.listdir(TRAIN_DATASET):\n",
    "    CATEGORIES_TEST.append(tes)\n",
    "print (CATEGORIES_TEST)\n",
    "\n"
   ]
  },
  {
   "cell_type": "code",
   "execution_count": 4,
   "metadata": {},
   "outputs": [],
   "source": [
    "class KNN(object):\n",
    "        def __init__(self):\n",
    "             pass \n",
    "           \n",
    "        def train(self,X,y):\n",
    "                self.X_train = X\n",
    "                self.Y_train = y\n",
    "\n",
    "        def predict(self,X,k=1,num=0):\n",
    "            if num ==0:\n",
    "                d = self.compute_distance(X)\n",
    "            else:\n",
    "                raise ValueError(f'Invalid value{num} for num')\n",
    "            return self.predict_labels(d,k=k)\n",
    "\n",
    "        def compute_distance(self,X):\n",
    "            num_test =X.shape[0]\n",
    "            num_train =self.X_train.shape[0]\n",
    "            d=np.zeros((num_test , num_train))\n",
    "           \n",
    "            for i in range(num_test):\n",
    "                for j in range(num_train):\n",
    "                    d[i,j]=np.sqrt(np.sum(X[i]-self.X_train[j]))\n",
    "            return d\n",
    "\n",
    "        def predict__labels(self,d,k=1):\n",
    "            num_test =d.shape[0]\n",
    "            y_pred=['']* num_test\n",
    "            for i in range(num_test):\n",
    "                closest_y=[]\n",
    "                sorted_d=np.argsort(d)\n",
    "                closest_y=list(self.y_train[sorted_d[0:k]])\n",
    "                y_pred[i]=max(closest_y,key=closest_y)\n",
    "            return y_pred\n"
   ]
  },
  {
   "cell_type": "code",
   "execution_count": null,
   "metadata": {},
   "outputs": [],
   "source": [
    "k=[]\n",
    "Accuracy=[]\n",
    "\n",
    "classifier =KNN()\n",
    "classifier.train(X_train,Y_train)\n",
    "d=classifier.compute_distance(X_test)\n",
    "\n",
    "for j in range(1,21):\n",
    "    y_test_pre=classifier.predict__labels(d,k=j)\n",
    "    num_cor=0\n",
    "    for i in range(len(y_test_pre)):\n",
    "        \n",
    "         if u_test[i]==y_test_pre[i]:\n",
    "                num_cor+=1\n",
    "    accuracy= float((num_cor)*2*100)/len(y_test_pre)\n",
    "    k.append(j)\n",
    "    Accuracy.append(i)\n",
    "    \n",
    "print(len(k))\n",
    "\n",
    "for i in range(20):\n",
    "    print(f'accuracy for k value{k[i]}is{Accuracy[i]}')"
   ]
  },
  {
   "cell_type": "code",
   "execution_count": null,
   "metadata": {},
   "outputs": [],
   "source": []
  },
  {
   "cell_type": "code",
   "execution_count": null,
   "metadata": {},
   "outputs": [],
   "source": []
  }
 ],
 "metadata": {
  "kernelspec": {
   "display_name": "Python 3",
   "language": "python",
   "name": "python3"
  },
  "language_info": {
   "codemirror_mode": {
    "name": "ipython",
    "version": 3
   },
   "file_extension": ".py",
   "mimetype": "text/x-python",
   "name": "python",
   "nbconvert_exporter": "python",
   "pygments_lexer": "ipython3",
   "version": "3.7.4"
  }
 },
 "nbformat": 4,
 "nbformat_minor": 2
}
